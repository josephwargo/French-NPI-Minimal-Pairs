{
  "nbformat": 4,
  "nbformat_minor": 0,
  "metadata": {
    "colab": {
      "name": "MinimalPairPerplexityCalculator.ipynb",
      "provenance": [],
      "collapsed_sections": []
    },
    "kernelspec": {
      "name": "python3",
      "display_name": "Python 3"
    },
    "language_info": {
      "name": "python"
    }
  },
  "cells": [
    {
      "cell_type": "code",
      "execution_count": null,
      "metadata": {
        "id": "dv4ymTMay6YE"
      },
      "outputs": [],
      "source": [
        "pip install transformers"
      ]
    },
    {
      "cell_type": "code",
      "source": [
        "import numpy as np\n",
        "import pandas as pd\n",
        "import io\n",
        "import torch\n",
        "from transformers import GPT2Tokenizer, GPT2LMHeadModel"
      ],
      "metadata": {
        "id": "2WuWyZAk4soV"
      },
      "execution_count": null,
      "outputs": []
    },
    {
      "cell_type": "code",
      "source": [
        "model = GPT2LMHeadModel.from_pretrained(\"antoiloui/belgpt2\")\n",
        "tokenizer = GPT2Tokenizer.from_pretrained(\"antoiloui/belgpt2\")\n",
        "model.eval()"
      ],
      "metadata": {
        "id": "2JSc6os7y_vk"
      },
      "execution_count": null,
      "outputs": []
    },
    {
      "cell_type": "code",
      "source": [
        "def score(sentence):\n",
        "    tokenize_input = tokenizer.encode(sentence)\n",
        "    tensor_input = torch.tensor([tokenize_input])\n",
        "    loss = model(tensor_input, labels=tensor_input)[0]\n",
        "    return np.exp(loss.detach().numpy())"
      ],
      "metadata": {
        "id": "PhvWaJvNCXKD"
      },
      "execution_count": null,
      "outputs": []
    },
    {
      "cell_type": "code",
      "source": [
        "from google.colab import files\n",
        "uploaded = files.upload()"
      ],
      "metadata": {
        "id": "mLeI3j5bHGC2"
      },
      "execution_count": null,
      "outputs": []
    },
    {
      "cell_type": "code",
      "source": [
        "df = pd.read_csv(io.BytesIO(uploaded['NPI Minimal Pair Data csv.csv']))\n",
        "print(df)"
      ],
      "metadata": {
        "id": "DUK0WcifzAFS"
      },
      "execution_count": null,
      "outputs": []
    },
    {
      "cell_type": "code",
      "source": [
        "for i in range(df.shape[0]):\n",
        "  print(score(df.at[i,\"Correct\"]))"
      ],
      "metadata": {
        "id": "u6DfeFN1cB8b"
      },
      "execution_count": null,
      "outputs": []
    },
    {
      "cell_type": "code",
      "source": [
        "for i in range(df.shape[0]):\n",
        "  print(score(df.at[i,\"Incorrect\"]))"
      ],
      "metadata": {
        "id": "267gdEqMIxTZ"
      },
      "execution_count": null,
      "outputs": []
    }
  ]
}
